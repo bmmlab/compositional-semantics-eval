{
 "cells": [
  {
   "cell_type": "code",
   "execution_count": 7,
   "id": "b56d77ed",
   "metadata": {},
   "outputs": [],
   "source": [
    "## This script computes VerbNet pairwise sentence similarities\n",
    "# Requires that sentences have already been parsed using VerbNet semantic roles, as performed by 'Calc_parse_GPT4.ipynb'.\n",
    "# Run using base python 3.9\n",
    "# James Fodor 2023\n",
    "\n",
    "# load libraries\n",
    "import numpy as np\n",
    "import json\n",
    "import warnings\n",
    "import itertools\n",
    "import sentence_embeds_processing as sep\n",
    "import seaborn as sns\n",
    "import matplotlib.pyplot as plt\n",
    "\n",
    "# load file paths\n",
    "with open(\"file_paths.json\", \"r\") as file:\n",
    "    file_paths_dict = json.load(file)\n",
    "\n",
    "# set fixed params\n",
    "role_weights_fixed_dict = {'Agent':2, 'Verb':3, 'Patient':2, 'Theme':2, 'Time':0.5, 'Manner':0.5, 'Location':0.5, 'Trajectory':0.5}\n",
    "# these are from the test-train regression using STS3k data\n",
    "role_weights_ST3k_dict = {'Agent':0.22, 'Verb':0.19, 'Patient':0.13, 'Theme':0.14, 'Time':0.03, 'Manner':0.03, 'Location':0.12, 'Trajectory':0.10}\n",
    "role_weights_dict_of_dicts = {'fixed':role_weights_fixed_dict, 'STS3k':role_weights_ST3k_dict, 'struct':role_weights_fixed_dict}\n",
    "\n",
    "# numpy print options\n",
    "np.set_printoptions(precision=4, threshold=2000, linewidth=200, suppress=True, floatmode='fixed')\n",
    "sns.set()\n",
    "\n",
    "# turn off annoying warning\n",
    "from tqdm import TqdmExperimentalWarning\n",
    "warnings.filterwarnings(\"ignore\", category=TqdmExperimentalWarning)\n",
    "\n",
    "# define stop words\n",
    "stop_words = np.loadtxt(file_paths_dict['stop_words_path'], dtype='str') # list of stop words"
   ]
  },
  {
   "cell_type": "code",
   "execution_count": 3,
   "id": "870fa406",
   "metadata": {},
   "outputs": [],
   "source": [
    "## Functions to compute VerbNet rolewise similarities \n",
    "\n",
    "# Compute embedding for phrases from the verbnet parse using conceptnet\n",
    "def get_conceptnet_embedding(conceptnet_embeds, phrase):\n",
    "    \n",
    "    # Split phrase into words and define storage\n",
    "    word_list = sep.tokenise_sentence(phrase, stop_words)\n",
    "    word_list = sep.replace_tricky_tokens(word_list)\n",
    "    embed_length = len(conceptnet_embeds['man'])\n",
    "    embeds = np.empty((0,embed_length), float)\n",
    "    \n",
    "    # Get word embeddings for each word in phrase\n",
    "    for word in word_list:\n",
    "        try:\n",
    "            embeds = np.vstack([embeds,conceptnet_embeds[word.lower()]])\n",
    "        except KeyError:\n",
    "            continue # ignore words we can't find\n",
    "    \n",
    "    # Save final phrase embeddings\n",
    "    if len(np.ndarray.flatten(embeds)) > embed_length: # deal with phrases with multiple embeddings\n",
    "        phrase_embedding = np.mean(embeds, axis=0) # average over all saved embeddings\n",
    "    else:\n",
    "        try:\n",
    "            phrase_embedding = embeds[0] # use embeddings for single word\n",
    "        except IndexError:\n",
    "            phrase_embedding = np.zeros(embed_length) # return array of zeros if no words in phrase found\n",
    "    \n",
    "    return phrase_embedding\n",
    "\n",
    "# Calculate sentence embedding using sentbert\n",
    "def get_sentbert_embedding(sentbert_model_mpnet, sentences):\n",
    "    sentence_embeddings = sentbert_model_mpnet.encode(sentences, convert_to_tensor=True).reshape(-1)\n",
    "    return np.array(sentence_embeddings)\n",
    "\n",
    "# Calculate sentence embedding using defsent_cls\n",
    "def get_defsent_cls_embedding(defsent_cls_model, sentence):\n",
    "    embedding_model = defsent_cls_model.encode\n",
    "    sentence_embeddings = defsent_cls_model.encode(sentence).reshape(-1)\n",
    "    return np.array(sentence_embeddings)\n",
    "\n",
    "# Calculate sentence embedding using amrbart\n",
    "def get_amrbart_embedding(amrbart_model, amrbart_tokenizer, sentences):\n",
    "    sentence_embeddings = np.empty((0,1024), float)\n",
    "    for sentence in sentences:\n",
    "        encoded_input = amrbart_tokenizer(sentence, return_tensors='pt')\n",
    "        model_output = amrbart_model(**encoded_input)\n",
    "        sentence_embedding = np.mean(model_output.encoder_last_hidden_state.detach().numpy()[0], axis=0)\n",
    "        sentence_embeddings = np.vstack([sentence_embeddings, sentence_embedding])\n",
    "    return sentence_embeddings[0]\n",
    "\n",
    "# Get the embedding for a single phrase\n",
    "def get_phrase_embedding(phrase, embed_type, embed_model):\n",
    "    if embed_type=='conceptnet': # get embedding for phrase\n",
    "        phrase_embed = get_conceptnet_embedding(embed_model, phrase)\n",
    "    elif embed_type=='sentbert':\n",
    "        phrase_embed = get_sentbert_embedding(embed_model, phrase)\n",
    "    elif embed_type=='defsent_cls':\n",
    "        phrase_embed = get_defsent_cls_embedding(embed_model, phrase)\n",
    "    elif embed_type=='amrbart':\n",
    "        phrase_embed = get_amrbart_embedding(embed_model[0], embed_model[1], phrase)\n",
    "    return phrase_embed\n",
    "\n",
    "# Get mean and std dev for a set of embeddings to use for normalisation\n",
    "def get_all_rolewise_embeddings(sentences_parsed_dict, model_name, embed_model):\n",
    "\n",
    "    # Embeddings length\n",
    "    embed_length = get_phrase_embedding('man', model_name, embed_model).shape[0]\n",
    "\n",
    "    # Get embeddings for each semantic role of each sentence\n",
    "    all_embeds = []\n",
    "    for sent_id in sentences_parsed_dict.keys():\n",
    "        single_sentence_embed = []\n",
    "        for sem_role in sentences_parsed_dict[sent_id][0].keys():\n",
    "            sem_role_text = sentences_parsed_dict[sent_id][0][sem_role]\n",
    "            if (sem_role_text != 'NONE'): # only if the corresponding semantic role is present\n",
    "                single_sentence_embed.append(get_phrase_embedding(sem_role_text, model_name, embed_model))\n",
    "            else: # if semantic role not present\n",
    "                single_sentence_embed.append([np.NaN for x in np.arange(embed_length)]) # fill with nans\n",
    "        all_embeds.append(single_sentence_embed)\n",
    "    all_embeds = np.array(all_embeds)\n",
    "\n",
    "    # Normalise embeddings\n",
    "    all_embeds_flat = all_embeds.reshape(-1,embed_length) # combine embeddings of all roles and all sentences\n",
    "    mean_embeds = np.nanmean(all_embeds_flat, axis=0) # mean for each dimension\n",
    "    std_embeds = np.nanstd(all_embeds_flat, axis=0)+0.001 # std for each dimension\n",
    "    all_embeds_flat_norml = (all_embeds_flat-mean_embeds)/std_embeds\n",
    "    all_embeds_norml = all_embeds_flat_norml.reshape(all_embeds.shape) # put embeds back into structured form\n",
    "    \n",
    "    return all_embeds_norml\n",
    "\n",
    "# Compute rolewise similarities for a pair of sentences\n",
    "def calc_rolewise_sims(sent_id_pair, all_embeds_norml, sentences_parsed_dict, use_role_align, role_weights):\n",
    "    \n",
    "    # Define dictionary of pairs of semantic roles to align if no direct matches are present\n",
    "    role_alignment_dict = [('Location','Trajectory'), ('Trajectory','Location'), ('Theme','Patient'), ('Patient','Theme'), ('Manner','Trajectory'), ('Trajectory','Manner')]\n",
    "\n",
    "    # Get the sentence pair to compute similarity for\n",
    "    sent_1_id = int(sent_id_pair[0])\n",
    "    sent_2_id = int(sent_id_pair[1])\n",
    "    sent_1_parsed = sentences_parsed_dict[str(sent_1_id)][0]\n",
    "    sent_2_parsed = sentences_parsed_dict[str(sent_2_id)][0]\n",
    "\n",
    "    # Define role sims storage dict\n",
    "    role_sim_storage = {}\n",
    "    \n",
    "    # Loop over all semantic roles\n",
    "    for role_id,role in enumerate(list(role_weights_fixed_dict.keys())):\n",
    "        \n",
    "        # If neither sentence has the role\n",
    "        if sent_1_parsed[role]=='NONE' and sent_2_parsed[role]=='NONE':\n",
    "            role_sim_storage[role] = np.NaN\n",
    "            \n",
    "        # If both sentences have the role\n",
    "        elif sent_1_parsed[role]!='NONE' and sent_2_parsed[role]!='NONE':\n",
    "            phrase_1_embed = all_embeds_norml[sent_1_id][role_id] # get role embeddings\n",
    "            phrase_2_embed = all_embeds_norml[sent_2_id][role_id]\n",
    "            role_sim_storage[role] = float(round(sep.cosine_sim(phrase_1_embed, phrase_2_embed),4))\n",
    "            if role_weights=='struct':\n",
    "                role_sim_storage[role]+=0.5\n",
    "            \n",
    "        # If one sentence has the role but the other does not\n",
    "        else:\n",
    "            role_sim_storage[role] = 0\n",
    "            \n",
    "    # Match related but distinct roles when there is no direct match\n",
    "    if use_role_align==True:\n",
    "        for role_match_1,role_match_2 in role_alignment_dict:\n",
    "            if (sent_1_parsed[role_match_1]!='NONE' and sent_1_parsed[role_match_2]=='NONE') and (sent_2_parsed[role_match_1]=='NONE' and sent_2_parsed[role_match_2]!='NONE'):\n",
    "                phrase_1_embed = all_embeds_norml[sent_1_id][role_id] # get role embeddings\n",
    "                phrase_2_embed = all_embeds_norml[sent_2_id][role_id]\n",
    "                role_sim_storage[role_match_1] = round(sep.cosine_sim(phrase_1_embed, phrase_2_embed),4)\n",
    "                role_sim_storage[role_match_2] = np.NaN\n",
    "                \n",
    "    return role_sim_storage\n",
    "\n",
    "\n",
    "# Function to convert role-wise dictionary sim storage into role-wise list storage\n",
    "def dict_sim_to_list(role_weights_dict, sim_storage_dict):\n",
    "    sim_storage_dict_full = {}\n",
    "    for role in role_weights_dict.keys():\n",
    "        try:\n",
    "            sim_storage_dict_full[role] = sim_storage_dict[role]\n",
    "        except KeyError:\n",
    "            sim_storage_dict_full[role] = 0\n",
    "    sim_storage_list = list(sim_storage_dict_full.values())\n",
    "    \n",
    "    return(sim_storage_list)\n"
   ]
  },
  {
   "cell_type": "markdown",
   "id": "a3730e0c",
   "metadata": {},
   "source": [
    "### Step 0: Load sentence dataset and parse"
   ]
  },
  {
   "cell_type": "markdown",
   "id": "a6f4342e",
   "metadata": {},
   "source": [
    "Load the dataset of sentences we want to compute VerbNet similarities for."
   ]
  },
  {
   "cell_type": "code",
   "execution_count": 4,
   "id": "3280faf2",
   "metadata": {},
   "outputs": [
    {
     "name": "stdout",
     "output_type": "stream",
     "text": [
      "0 Wehbe_neuro\n",
      "1 Anderson_neuro\n",
      "2 Pereira243_neuro\n",
      "3 Pereira384_neuro\n",
      "4 Alice_neuro\n",
      "5 Zhang_neuro\n",
      "6 Fodor2024-final108_neuro\n"
     ]
    }
   ],
   "source": [
    "## Show available datasets, as specified in the sentence_embeds_processing module\n",
    "pairs = False # specify if we are using paired data or list of sentences\n",
    "if pairs==True:\n",
    "    datasets = sep.available_pair_datasets\n",
    "else:\n",
    "    datasets = sep.available_nonpaired_datasets\n",
    "for dataset in datasets.keys():\n",
    "    print(dataset,datasets[dataset])"
   ]
  },
  {
   "cell_type": "code",
   "execution_count": 122,
   "id": "e9949c45",
   "metadata": {},
   "outputs": [
    {
     "name": "stdout",
     "output_type": "stream",
     "text": [
      "\n",
      "loaded Zhang_neuro with 95 sentences\n"
     ]
    }
   ],
   "source": [
    "## Load sentence set into dictionary depending on type\n",
    "dataset_name = datasets[5]\n",
    "if pairs == True:\n",
    "    sentences_dict = sep.load_set_of_sentences(dataset_name, file_paths_dict['data_pairs_path'], pairs)\n",
    "else:\n",
    "    sentences_dict = sep.load_set_of_sentences(dataset_name, file_paths_dict[dataset_name+'-stim'], pairs)\n",
    "n = len(sentences_dict.keys()) # num sentences\n",
    "print('\\nloaded',dataset_name,'with',n,'sentences')"
   ]
  },
  {
   "cell_type": "code",
   "execution_count": 123,
   "id": "7c513778",
   "metadata": {},
   "outputs": [
    {
     "name": "stdout",
     "output_type": "stream",
     "text": [
      "parse type: GPT4\n",
      "sentences parsed: 95\n"
     ]
    }
   ],
   "source": [
    "## load parse data for the dataset\n",
    "parse_type = 'GPT4' # choose parse type ('verbnet' or 'GPT4' or 'GPT4o)\n",
    "json_path = file_paths_dict['parses_path']+parse_type+' Parsing\\\\'+dataset_name+'_parse-'+parse_type+'_mod.json'\n",
    "sentences_parsed_dict = json.load(open(json_path)) # load verbnet parse data from json\n",
    "sent_id_pairs = list(itertools.combinations(sentences_parsed_dict.keys(), 2))\n",
    "n = len(sentences_parsed_dict.keys())\n",
    "print('parse type:',parse_type)\n",
    "print('sentences parsed:',n)"
   ]
  },
  {
   "attachments": {},
   "cell_type": "markdown",
   "id": "8cba17b5",
   "metadata": {},
   "source": [
    "### Step 1: Load embeddings models"
   ]
  },
  {
   "cell_type": "code",
   "execution_count": 124,
   "id": "17823436",
   "metadata": {},
   "outputs": [
    {
     "name": "stdout",
     "output_type": "stream",
     "text": [
      "Conceptnet embeds: 300\n",
      "Sentbert embeds: 768\n",
      "Defsent embeds: 1024\n"
     ]
    }
   ],
   "source": [
    "## Load embeddings and transformer models for computing similarity\n",
    "\n",
    "# Load ConceptNet embeddings\n",
    "model_address = file_paths_dict['path_root']+'\\\\Word Embeddings\\\\ConceptNet Embeddings\\\\numberbatch-en.txt'\n",
    "conceptnet_embeds = sep.import_word_model(model_address)\n",
    "embed_length = get_conceptnet_embedding(conceptnet_embeds, 'man').shape[0]\n",
    "print('Conceptnet embeds:',embed_length)\n",
    "\n",
    "# Load SentBERT embeddings\n",
    "from sentence_transformers import SentenceTransformer\n",
    "sentbert_model_mpnet = SentenceTransformer(file_paths_dict['path_root']+'\\\\Sentence Encoders\\\\sentence-transformers-mpnet-base-v2')\n",
    "embed_length = get_sentbert_embedding(sentbert_model_mpnet, ['man']).shape[0]\n",
    "print('Sentbert embeds:',embed_length)\n",
    "\n",
    "# Load DefSent models\n",
    "from defsent import DefSent\n",
    "defsent_cls_model = DefSent(file_paths_dict['path_root']+'\\\\Sentence Encoders\\\\defsent-roberta-large-cls')\n",
    "embed_length = get_defsent_cls_embedding(defsent_cls_model, ['man']).shape[0]\n",
    "print('Defsent embeds:',embed_length)\n",
    "\n",
    "# Load AMRBART model\n",
    "from transformers import AutoTokenizer, AutoConfig\n",
    "from transformers import BartForConditionalGeneration\n",
    "config_state = AutoConfig.from_pretrained(file_paths_dict['path_root']+'\\\\Sentence Encoders\\\\amrbart-large', output_hidden_states=True) # get hidden states\n",
    "amrbart_tokenizer = AutoTokenizer.from_pretrained(file_paths_dict['path_root']+'\\\\Sentence Encoders\\\\amrbart-large', collapse_name_ops=False, use_pointer_tokens=True, raw_graph=False)\n",
    "amrbart_model = BartForConditionalGeneration.from_pretrained(file_paths_dict['path_root']+'\\\\Sentence Encoders\\\\amrbart-large', config=config_state)\n",
    "\n",
    "# Dictionary of all embedding models\n",
    "dict_of_models = {'conceptnet':conceptnet_embeds, 'sentbert':sentbert_model_mpnet, 'defsent_cls':defsent_cls_model, 'amrbart':[amrbart_model,amrbart_tokenizer]}"
   ]
  },
  {
   "attachments": {},
   "cell_type": "markdown",
   "id": "875076f2",
   "metadata": {},
   "source": [
    "### Step 2: Compute rolewise similarities"
   ]
  },
  {
   "cell_type": "code",
   "execution_count": 147,
   "id": "821157d3",
   "metadata": {},
   "outputs": [],
   "source": [
    "## Compute role-wise sentence similarities using VerbNet semantic role parses\n",
    "\n",
    "# Initialise storage \n",
    "all_role_sim_storage = {}\n",
    "all_sim_storage_list = []\n",
    "\n",
    "# Define parameters for calculating sentence sims\n",
    "embed_type = 'conceptnet' # conceptnet, sentbert, defsent_cls, amrbart\n",
    "role_weights = 'struct' # fixed, STS3k, struct\n",
    "role_align = False\n",
    "\n",
    "# Get embeddings for all semantic roles and all sentences\n",
    "embed_model = dict_of_models[embed_type]\n",
    "role_weights_dict = role_weights_dict_of_dicts[role_weights] # choose which set of semantic role weights to use\n",
    "all_embeds_norml = get_all_rolewise_embeddings(sentences_parsed_dict, embed_type, embed_model)\n",
    "\n",
    "# Loop over all sentence pairs to compute rolewise similarities\n",
    "for idx,sent_id_pair in enumerate(sent_id_pairs):\n",
    "   \n",
    "    # Store in dictionary with all sentence pairs\n",
    "    all_role_sim_storage[idx] = calc_rolewise_sims(sent_id_pair, all_embeds_norml, sentences_parsed_dict, role_align, role_weights)\n",
    "\n",
    "    # Convert dictionary storage of rolewise sims into list and store\n",
    "    sim_storage_list = dict_sim_to_list(role_weights_dict,all_role_sim_storage[idx])\n",
    "    all_sim_storage_list.append(sim_storage_list)\n",
    "    \n",
    "# Save in json file\n",
    "save_file_stem = dataset_name+\"_parse-\"+parse_type+\"_embed-\"+embed_type+\"_weights-\"+role_weights+\"_align-\"+str(int(role_align))+'_norml'\n",
    "with open(file_paths_dict['parses_path']+\"\\\\\"+parse_type+\" Parsing\\\\\"+save_file_stem+\"_rolesims.json\", \"w\") as file:\n",
    "    json.dump(all_role_sim_storage, file, indent=0)"
   ]
  },
  {
   "cell_type": "markdown",
   "id": "08228788",
   "metadata": {},
   "source": [
    "### Step 3: Compute overall similarities"
   ]
  },
  {
   "cell_type": "code",
   "execution_count": 148,
   "metadata": {},
   "outputs": [],
   "source": [
    "## Load stored rolewise sims into list\n",
    "\n",
    "# load rolewise similarities file\n",
    "json_rolewise_path = file_paths_dict['parses_path']+\"\\\\\"+parse_type+\" Parsing\\\\\"+save_file_stem+\"_rolesims.json\"\n",
    "with open(json_rolewise_path, \"r\") as file:\n",
    "    all_role_sim_storage = json.load(file)\n",
    "    \n",
    "# loop over all sentence pairs to load rolewise similarities\n",
    "all_sim_storage_list = []\n",
    "for idx,pair_id in enumerate(sent_id_pairs):\n",
    "    # Convert dictionary storage of rolewise sims into list and store\n",
    "    sim_storage_list = dict_sim_to_list(role_weights_dict,all_role_sim_storage[str(idx)])\n",
    "    all_sim_storage_list.append(sim_storage_list)"
   ]
  },
  {
   "cell_type": "code",
   "execution_count": 149,
   "id": "2b94af80",
   "metadata": {},
   "outputs": [],
   "source": [
    "## Compute overall VerbNet similarity\n",
    "\n",
    "# Compute basic version of VerbNet-based similarities with the SAME normalisation applied to each sentence pair\n",
    "all_sims_storage_np = np.array(all_sim_storage_list) \n",
    "role_weights_array = np.array(list(role_weights_dict.values())) # get role weights\n",
    "all_sim_storage_list_nonan = np.ma.array(all_sims_storage_np, mask=np.isnan(all_sims_storage_np)) # ignore nan values\n",
    "basic_similarities_non_norm = np.ma.dot(all_sim_storage_list_nonan, role_weights_array)\n",
    "basic_similarities = basic_similarities_non_norm/np.sum(list(role_weights_dict.values())) # divide by total sum of weights\n",
    "\n",
    "# Compute normalised VerbNet-based similarities, with each sentence normalised by ITS OWN length\n",
    "rolewise_weights_masked = []\n",
    "alt_similarities = []\n",
    "i = 0\n",
    "for pair_mask in all_sim_storage_list_nonan.mask:\n",
    "    role_weights_array_masked = role_weights_array[~pair_mask] # need to invert the mask for the roles we want to keep\n",
    "    total_length = np.sum(role_weights_array_masked) # get total weighted length of each sentence\n",
    "    alt_similarities.append(basic_similarities_non_norm[i]/total_length) # normalise weights by total weight length\n",
    "    i+=1\n",
    "\n",
    "# Save results to files\n",
    "save_file_name = file_paths_dict['sims_path']+save_file_stem+'_fixedparms_basic_similarities.txt'\n",
    "np.savetxt(save_file_name, basic_similarities, fmt='%f')\n",
    "save_file_name = file_paths_dict['sims_path']+save_file_stem+'_fixedparms_alt_similarities.txt'\n",
    "np.savetxt(save_file_name, alt_similarities, fmt='%f')"
   ]
  },
  {
   "attachments": {},
   "cell_type": "markdown",
   "id": "367f857d",
   "metadata": {},
   "source": [
    "### Step 4: Evaluate VerbNet Similarities"
   ]
  },
  {
   "cell_type": "markdown",
   "id": "b86cd308",
   "metadata": {},
   "source": [
    "Plot a histograph of VerbNet rolewise similarities for evaluation of the distribution."
   ]
  },
  {
   "cell_type": "code",
   "execution_count": 150,
   "id": "1e598107",
   "metadata": {},
   "outputs": [
    {
     "data": {
      "image/png": "[encoded data removed]",
      "text/plain": [
       "<Figure size 640x480 with 1 Axes>"
      ]
     },
     "metadata": {},
     "output_type": "display_data"
    }
   ],
   "source": [
    "## Plot histogram of basic similarities\n",
    "sns.set()\n",
    "plt.hist(basic_similarities.data, bins=40)\n",
    "# plt.hist(alt_similarities, bins=40)\n",
    "plt.xlim(0.05,1.3)\n",
    "plt.ylim(0,300)\n",
    "plt.show()"
   ]
  },
  {
   "cell_type": "code",
   "execution_count": null,
   "id": "602d8d43",
   "metadata": {},
   "outputs": [],
   "source": []
  }
 ],
 "metadata": {
  "kernelspec": {
   "display_name": "base",
   "language": "python",
   "name": "python3"
  },
  "language_info": {
   "codemirror_mode": {
    "name": "ipython",
    "version": 3
   },
   "file_extension": ".py",
   "mimetype": "text/x-python",
   "name": "python",
   "nbconvert_exporter": "python",
   "pygments_lexer": "ipython3",
   "version": "3.9.13"
  },
  "vscode": {
   "interpreter": {
    "hash": "6e86f3c5951539f2722badccf95389aafd2846e6c6d91d84b623110a1b2c6697"
   }
  }
 },
 "nbformat": 4,
 "nbformat_minor": 5
}
