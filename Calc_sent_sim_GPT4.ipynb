{
 "cells": [
  {
   "cell_type": "code",
   "execution_count": 4,
   "metadata": {},
   "outputs": [],
   "source": [
    "## This script uses GPT4 to give similarity ratings to sentence pairs\n",
    "# Run using base python 3.9\n",
    "# James Fodor 2023\n",
    "#\n",
    "# See OpenAI instructions: https://platform.openai.com/docs/guides/gpt\n",
    "\n",
    "# load libraries\n",
    "import json\n",
    "import numpy as np\n",
    "import sentence_embeds_processing as sep\n",
    "import itertools\n",
    "\n",
    "# load file paths\n",
    "with open(\"file_paths.json\", \"r\") as file:\n",
    "    file_paths_dict = json.load(file)\n",
    "\n",
    "# numpy print options\n",
    "np.set_printoptions(precision=2, threshold=2000, linewidth=200, suppress=True, floatmode='fixed')\n",
    "\n",
    "# Prepare API for openai embeddings (needs a key to work)\n",
    "from openai import OpenAI\n",
    "api_key, api_org = sep.load_openai_key('openai_key.txt')\n",
    "open_ai_client = OpenAI(api_key=api_key)"
   ]
  },
  {
   "cell_type": "code",
   "execution_count": 5,
   "metadata": {},
   "outputs": [
    {
     "name": "stdout",
     "output_type": "stream",
     "text": [
      "0 Wehbe_neuro\n",
      "1 Anderson_neuro\n",
      "2 Pereira243_neuro\n",
      "3 Pereira384_neuro\n",
      "4 Alice_neuro\n",
      "5 Zhang_neuro\n",
      "6 Fodor2023-final192_neuro\n",
      "7 Fodor2023-final108_neuro\n"
     ]
    }
   ],
   "source": [
    "## Show available datasets, as specified in the sentence_embeds_processing module\n",
    "pairs = False # specify if we are using paired data or list of sentences\n",
    "if pairs==True:\n",
    "    datasets = sep.available_pair_datasets\n",
    "else:\n",
    "    datasets = sep.available_nonpaired_datasets\n",
    "    \n",
    "for dataset in datasets.keys():\n",
    "    print(dataset,datasets[dataset])"
   ]
  },
  {
   "cell_type": "code",
   "execution_count": 8,
   "metadata": {},
   "outputs": [
    {
     "name": "stdout",
     "output_type": "stream",
     "text": [
      "\n",
      "loaded Fodor2023-final108_neuro with 108 sentences\n"
     ]
    }
   ],
   "source": [
    "## Load sentence set (choose number from those printed above)\n",
    "dataset = datasets[7]\n",
    "sentences_dict = sep.load_set_of_sentences(dataset, file_paths_dict['data_nonpaired_path']+'\\\\2023 Fodor Dataset\\\\1 - Stimuli\\\\Fodor2023-final108.txt', pairs)\n",
    "full_dataset_name = sep.fix_sentence_dataset_name(dataset, pairs)\n",
    "n = len(sentences_dict.keys()) # num sentences\n",
    "print('\\nloaded',full_dataset_name,'with',n,'sentences')"
   ]
  },
  {
   "cell_type": "code",
   "execution_count": 9,
   "metadata": {},
   "outputs": [],
   "source": [
    "## Function for getting sentence-pair ratings from GPT4\n",
    "def gpt4_ratings(instruction, sentence_pairs):\n",
    "    out = open_ai_client.chat.completions.create(\n",
    "        model=\"gpt-4\", \n",
    "        messages=[{\"role\": \"user\", \"content\": instruction},\n",
    "                  {\"role\": \"user\", \"content\": sentence_pairs}], \n",
    "        temperature=0)\n",
    "    return out.choices[0].message.content"
   ]
  },
  {
   "cell_type": "code",
   "execution_count": 10,
   "metadata": {},
   "outputs": [],
   "source": [
    "instruction = 'You will be presented with two sentences. Your task is to judge how similar is the meaning of the two sentences. \\\n",
    "You will make this judgement by choosing a rating from 0 (most dissimilar) to 1 (most similar) to two decimal places. \\\n",
    "In providing your rating, consider both the similarity in meaning of the individual words contained in the sentences, as well as the similarity of the overall idea or meaning expressed by the sentences. \\\n",
    "Provide a numerical rating only; do not explain your answers. \\\n",
    "Here are the sentences:'"
   ]
  },
  {
   "cell_type": "code",
   "execution_count": 11,
   "metadata": {},
   "outputs": [
    {
     "name": "stdout",
     "output_type": "stream",
     "text": [
      "5778 pairs\n"
     ]
    }
   ],
   "source": [
    "sent_id_pairs = list(itertools.combinations(sentences_dict.keys(), 2))\n",
    "sent_pairs = []\n",
    "for sent_id_pair in sent_id_pairs:\n",
    "    sent_1 = sentences_dict[sent_id_pair[0]]\n",
    "    sent_2 = sentences_dict[sent_id_pair[1]]\n",
    "    sent_pairs.append([sent_1,sent_2])\n",
    "print(len(sent_pairs),'pairs')"
   ]
  },
  {
   "cell_type": "code",
   "execution_count": 12,
   "metadata": {},
   "outputs": [
    {
     "name": "stdout",
     "output_type": "stream",
     "text": [
      "0\n",
      "100\n",
      "200\n",
      "300\n",
      "400\n",
      "500\n",
      "600\n",
      "700\n",
      "800\n",
      "900\n",
      "1000\n",
      "1100\n",
      "1200\n",
      "1300\n",
      "1400\n",
      "1500\n",
      "1600\n",
      "1700\n",
      "1800\n",
      "1900\n",
      "2000\n",
      "2100\n",
      "2200\n",
      "2300\n",
      "2400\n",
      "2500\n",
      "2600\n",
      "2700\n",
      "2800\n",
      "2900\n",
      "3000\n",
      "3100\n",
      "3200\n",
      "3300\n",
      "3400\n",
      "3500\n",
      "3600\n",
      "3700\n",
      "3800\n",
      "3900\n",
      "4000\n",
      "4100\n",
      "4200\n",
      "4300\n",
      "4400\n",
      "4500\n",
      "4600\n",
      "4700\n",
      "4800\n",
      "4900\n",
      "5000\n",
      "5100\n",
      "5200\n",
      "5300\n",
      "5400\n",
      "5500\n",
      "5600\n",
      "5700\n"
     ]
    }
   ],
   "source": [
    "# Iterate through the list of sentence pairs\n",
    "gpt4_ratings_storage = []\n",
    "for idx,sent_pair in list(enumerate(sent_pairs))[0:]:\n",
    "    gpt4_output = gpt4_ratings(instruction, '\\n'.join(sent_pair))\n",
    "    gpt4_ratings_storage.append(gpt4_output)\n",
    "    if (idx%100)==0:\n",
    "        print(idx)"
   ]
  },
  {
   "cell_type": "code",
   "execution_count": 13,
   "metadata": {},
   "outputs": [],
   "source": [
    "np.savetxt(full_dataset_name+\"_GPT4_rated_similarities3.txt\", gpt4_ratings_storage, fmt='%s') "
   ]
  }
 ],
 "metadata": {
  "kernelspec": {
   "display_name": "base",
   "language": "python",
   "name": "python3"
  },
  "language_info": {
   "codemirror_mode": {
    "name": "ipython",
    "version": 3
   },
   "file_extension": ".py",
   "mimetype": "text/x-python",
   "name": "python",
   "nbconvert_exporter": "python",
   "pygments_lexer": "ipython3",
   "version": "3.9.13"
  }
 },
 "nbformat": 4,
 "nbformat_minor": 2
}
