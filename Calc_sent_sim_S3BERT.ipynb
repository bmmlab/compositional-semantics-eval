{
 "cells": [
  {
   "cell_type": "code",
   "execution_count": 1,
   "metadata": {},
   "outputs": [],
   "source": [
    "# load libraries\n",
    "import numpy as np\n",
    "import matplotlib.pyplot as plt\n",
    "import seaborn as sns\n",
    "import json\n",
    "import sys\n",
    "\n",
    "# load custom functions from library\n",
    "import sentence_embeds_processing as sep\n",
    "\n",
    "# file containing path directories\n",
    "with open(\"file_paths.json\", \"r\") as file:\n",
    "    file_paths_dict = json.load(file)\n",
    "    \n",
    "# set display options\n",
    "np.set_printoptions(precision=5, threshold=5000, linewidth=220, suppress=True, floatmode='fixed')\n",
    "sns.set()"
   ]
  },
  {
   "cell_type": "markdown",
   "metadata": {},
   "source": [
    "### Load dataset"
   ]
  },
  {
   "cell_type": "code",
   "execution_count": 2,
   "metadata": {},
   "outputs": [
    {
     "name": "stdout",
     "output_type": "stream",
     "text": [
      "Available datasets:\n",
      "0 GS2011_processed\n",
      "1 KS2013_processed\n",
      "2 Fodor_pilot_2022\n",
      "3 STS131_processed\n",
      "4 SICK_relatedness\n",
      "5 STR_processed\n",
      "6 STSb_captions_test\n",
      "7 STSb_forums_test\n",
      "8 STSb_headlines_test\n",
      "9 STSb_test\n",
      "10 STS3k_all\n"
     ]
    }
   ],
   "source": [
    "## Show available datasets, as specified in the sep module\n",
    "pairs = True # specify if we are using paired data or list of sentences\n",
    "if pairs==True:\n",
    "    datasets = sep.available_pair_datasets\n",
    "else:\n",
    "    datasets = sep.available_nonpaired_datasets\n",
    "print('Available datasets:')\n",
    "for dataset in datasets.keys():\n",
    "    print(dataset,datasets[dataset])"
   ]
  },
  {
   "cell_type": "code",
   "execution_count": 3,
   "metadata": {},
   "outputs": [
    {
     "name": "stdout",
     "output_type": "stream",
     "text": [
      "\n",
      "loaded STR_processed with 5500 sentences\n"
     ]
    }
   ],
   "source": [
    "## Load sentence set \n",
    "\n",
    "# choose number from those printed above\n",
    "dataset_name = datasets[5]\n",
    "\n",
    "# load sentence set into dictionary depending on type\n",
    "if pairs == True:\n",
    "    sentences_dict = sep.load_set_of_sentences(dataset_name, file_paths_dict['data_pairs_path'], pairs)\n",
    "else:\n",
    "    sentences_dict = sep.load_set_of_sentences(dataset_name, file_paths_dict['neuro_root'], pairs)\n",
    "n = len(sentences_dict.keys()) # num sentences\n",
    "print('\\nloaded',dataset_name,'with',n,'sentences')\n",
    "\n",
    "# store in list\n",
    "sentences = []\n",
    "if pairs==True: # use this for sentence similarity pair data\n",
    "    sentences.append(list(np.array(list(sentences_dict.values()))[:,0].flatten()))\n",
    "    sentences.append(list(np.array(list(sentences_dict.values()))[:,1].flatten()))\n",
    "else: # use this for neuroimaging data/list of sentences\n",
    "    sentences.append(list(sentences_dict.values()))"
   ]
  },
  {
   "cell_type": "code",
   "execution_count": 6,
   "metadata": {},
   "outputs": [],
   "source": [
    "## Open json file with S3BERT similarities\n",
    "with open(file_paths_dict['parses_path']+'S3BERT Parsing\\\\'+dataset_name+\"_S3BERT_feature_similarities.json\", \"r\") as file:\n",
    "    S3BERT_data = json.load(file)"
   ]
  },
  {
   "cell_type": "markdown",
   "metadata": {},
   "source": [
    "### Compute feature-specific similarities"
   ]
  },
  {
   "cell_type": "code",
   "execution_count": 7,
   "metadata": {},
   "outputs": [],
   "source": [
    "# Extract desired feature-specific similarities\n",
    "sim_types = ['global', 'Concepts ', 'Frames ', 'SRL ', 'Smatch ', 'score_wwlk']\n",
    "sim_types_storage = {}\n",
    "for sim_type in sim_types:\n",
    "    sim_types_storage[sim_type.strip()] = []\n",
    "    for sent_pair in S3BERT_data.values():\n",
    "        sim_types_storage[sim_type.strip()].append(sent_pair[sim_type])"
   ]
  },
  {
   "cell_type": "code",
   "execution_count": 8,
   "metadata": {},
   "outputs": [],
   "source": [
    "# Save feature-specific similarities\n",
    "for sim_type in sim_types:\n",
    "    np.savetxt(dataset_name+'_S3BERT-'+sim_type.strip().lower()+'_similarities.txt', sim_types_storage[sim_type.strip()], fmt='%f')"
   ]
  }
 ],
 "metadata": {
  "kernelspec": {
   "display_name": "base",
   "language": "python",
   "name": "python3"
  },
  "language_info": {
   "codemirror_mode": {
    "name": "ipython",
    "version": 3
   },
   "file_extension": ".py",
   "mimetype": "text/x-python",
   "name": "python",
   "nbconvert_exporter": "python",
   "pygments_lexer": "ipython3",
   "version": "3.9.13"
  }
 },
 "nbformat": 4,
 "nbformat_minor": 2
}
