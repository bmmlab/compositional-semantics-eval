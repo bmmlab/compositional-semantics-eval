{
 "cells": [
  {
   "cell_type": "code",
   "execution_count": 1,
   "metadata": {},
   "outputs": [],
   "source": [
    "## This script uses GPT4 to parse sentences using VerbNet-derived semantic roles\n",
    "# Run using base python 3.9\n",
    "# James Fodor 2023\n",
    "#\n",
    "# See OpenAI instructions: https://platform.openai.com/docs/guides/gpt\n",
    "\n",
    "# load libraries\n",
    "import json\n",
    "import openai\n",
    "import numpy as np\n",
    "import sentence_embeds_processing as sep\n",
    "import seaborn as sns\n",
    "\n",
    "# load file paths\n",
    "with open(\"file_paths.json\", \"r\") as file:\n",
    "    file_paths_dict = json.load(file)\n",
    "\n",
    "# numpy print options\n",
    "np.set_printoptions(precision=2, threshold=2000, linewidth=200, suppress=True, floatmode='fixed')\n",
    "sns.set()\n",
    "\n",
    "# Prepare API for openai embeddings (needs a key to work)\n",
    "import openai\n",
    "api_key, api_org = sep.load_openai_key('openai_key.txt')\n",
    "openai.organization = api_org\n",
    "openai.api_key = api_key"
   ]
  },
  {
   "cell_type": "code",
   "execution_count": 2,
   "metadata": {},
   "outputs": [],
   "source": [
    "## Function for parsing sentence pair using GPT4 API\n",
    "def gpt4_parse(instruction_base, example_sentence, example_output, final_instruction, sentences):\n",
    "    out = openai.ChatCompletion.create(\n",
    "        model=\"gpt-4\", \n",
    "        messages=[{\"role\": \"user\", \"content\": instruction_base},\n",
    "                  {\"role\": \"user\", \"content\": example_sentence},\n",
    "                  {\"role\": \"assistant\", \"content\": example_output},\n",
    "                  {\"role\": \"user\", \"content\": final_instruction+' '+sentences}], \n",
    "        temperature=0)\n",
    "    return out[\"choices\"][0][\"message\"][\"content\"]"
   ]
  },
  {
   "cell_type": "code",
   "execution_count": 3,
   "metadata": {},
   "outputs": [
    {
     "name": "stdout",
     "output_type": "stream",
     "text": [
      "0 2014 Wehbe\\Stimuli\\Chapter_9_sentences_final\n",
      "1 2017 Anderson\\Stimuli\\stimuli_final\n",
      "2 2018 Pereira\\Stimuli\\stimuli_243sentences\n",
      "3 2018 Pereira\\Stimuli\\stimuli_384sentences\n",
      "4 2020 Alice Dataset\\Stimuli\\stimuli_sentences_final\n",
      "5 2020 Zhang\\Stimuli\\test_sentences_final\n",
      "6 2023 Fodor Dataset\\Fodor2023-final240\n",
      "7 2023 Fodor Dataset\\Fodor2023-final192\n",
      "8 2023 Fodor Dataset\\Fodor2023-prelim\n"
     ]
    }
   ],
   "source": [
    "## Show available datasets, as specified in the sep module\n",
    "pairs = False # specify if we are using paired data or list of sentences\n",
    "if pairs==True:\n",
    "    datasets = sep.available_pair_datasets\n",
    "else:\n",
    "    datasets = sep.available_nonpaired_datasets\n",
    "for dataset in datasets.keys():\n",
    "    print(dataset,datasets[dataset])"
   ]
  },
  {
   "cell_type": "code",
   "execution_count": 4,
   "metadata": {},
   "outputs": [
    {
     "name": "stdout",
     "output_type": "stream",
     "text": [
      "\n",
      "loaded 2020 Zhang\\Stimuli\\test_sentences_final with 95 sentences\n"
     ]
    }
   ],
   "source": [
    "## Load sentence set (choose number from those printed above)\n",
    "dataset = datasets[5]\n",
    "sentences_dict = sep.load_set_of_sentences(dataset, file_paths_dict['data_pairs_path'], file_paths_dict['data_nonpaired_path'], pairs)\n",
    "full_dataset_name = sep.fix_sentence_dataset_name(dataset)\n",
    "n = len(sentences_dict.keys()) # num sentences\n",
    "print('\\nloaded',dataset,'with',n,'sentences')"
   ]
  },
  {
   "cell_type": "code",
   "execution_count": 5,
   "metadata": {},
   "outputs": [],
   "source": [
    "## GPT-4 instruction used for parsing\n",
    "GPT_instruction_base = 'Two sentences are given below. First, identify the main verb in each sentence. Each sentence should only have a single main verb. Use simple present conjugation. \\\n",
    "Second, label the semantic roles in each of these new sentences. Use the roles: \\\"Agent\\\", \\\"Patient\\\", \\\"Theme\\\", \\\"Time\\\", \\\"Manner\\\", \\\"Location\\\" ,\\\"Trajectory\\\". \\\n",
    "Print all results in a single list on one line. Print each role regardless of whether it is found in the sentence. Do not explain your answers. \\\n",
    "Here is one example of what to print:'\n",
    "GPT_instruction_single = 'One sentence is given below. First, identify the main verb in the sentence. The sentence should only have a single main verb. Use simple present conjugation. \\\n",
    "Second, label the semantic roles in the sentence. Use the roles: \\\"Agent\\\", \\\"Patient\\\", \\\"Theme\\\", \\\"Time\\\", \\\"Manner\\\", \\\"Location\\\" ,\\\"Trajectory\\\". \\\n",
    "Print the results on one line. Print each role regardless of whether it is found in the sentence. Do not explain your answers. \\\n",
    "Here is one example of what to print:'\n",
    "example_sentence = 'Food is what people and animals reluctantly eat on Thursdays'\n",
    "example_output = '{\\\"Verb\\\": \\\"is\\\", \\\"Agent\\\": \\\"food\\\", \\\"Patient\\\": \"NONE\", \\\"Theme\\\", \\\"what people and animals eat\\\", \\\"Time\\\": \\\"on Thursdays\\\", \\\"Manner\\\": \\\"reluctantly\\\", \\\"Location\\\": \"NONE\", \\\"Trajectory\\\": \"NONE\"}'\n",
    "final_instruction = 'Here are the two sentences for you to parse:'\n",
    "final_instruction_single = 'Here is the sentence for you to parse:'"
   ]
  },
  {
   "cell_type": "code",
   "execution_count": 6,
   "metadata": {},
   "outputs": [
    {
     "name": "stdout",
     "output_type": "stream",
     "text": [
      "\"0\": [{\"Verb\": \"started\", \"Agent\": \"I\", \"Patient\": \"11th and 12th grade English\", \"Theme\": \"teaching\", \"Time\": \"In January of 2008\", \"Manner\": \"NONE\", \"Location\": \"at a public school here in the city\", \"Trajectory\": \"NONE\"}],\n",
      "\"1\": [{\"Verb\": \"was\", \"Agent\": \"I\", \"Patient\": \"22\", \"Theme\": \"NONE\", \"Time\": \"when I started\", \"Manner\": \"NONE\", \"Location\": \"NONE\", \"Trajectory\": \"NONE\"}],\n",
      "\"2\": [{\"Verb\": \"were\", \"Agent\": \"The kids\", \"Patient\": \"NONE\", \"Theme\": \"seventeen\", \"Time\": \"NONE\", \"Manner\": \"NONE\", \"Location\": \"NONE\", \"Trajectory\": \"NONE\"}],\n",
      "\"3\": [{\"Verb\": \"looked\", \"Agent\": \"They\", \"Patient\": \"NONE\", \"Theme\": \"like they were 35\", \"Time\": \"NONE\", \"Manner\": \"NONE\", \"Location\": \"NONE\", \"Trajectory\": \"NONE\"}],\n",
      "\"4\": [{\"Verb\": \"believe\", \"Agent\": \"They\", \"Patient\": \"I\", \"Theme\": \"their English teacher\", \"Time\": \"NONE\", \"Manner\": \"not\", \"Location\": \"NONE\", \"Trajectory\": \"NONE\"}],\n",
      "\"5\": [{\"Verb\": \"liked\", \"Agent\": \"they\", \"Patient\": \"my name\", \"Theme\": \"that my name was Mr Manley\", \"Time\": \"NONE\", \"Manner\": \"NONE\", \"Location\": \"NONE\", \"Trajectory\": \"NONE\"}],\n",
      "\"6\": [{\"Verb\": \"wake\", \"Agent\": \"I\", \"Patient\": \"NONE\", \"Theme\": \"NONE\", \"Time\": \"The first day of the school year, before dawn\", \"Manner\": \"NONE\", \"Location\": \"NONE\", \"Trajectory\": \"NONE\"}],\n",
      "\"7\": [{\"Verb\": \"put\", \"Agent\": \"I\", \"Patient\": \"my favorite green tie\", \"Theme\": \"NONE\", \"Time\": \"the night before\", \"Manner\": \"pretty knotted\", \"Location\": \"on\", \"Trajectory\": \"NONE\"}],\n",
      "\"8\": [{\"Verb\": \"get\", \"Agent\": \"I\", \"Patient\": \"NONE\", \"Theme\": \"my handouts\", \"Time\": \"extra early\", \"Manner\": \"carefully\", \"Location\": \"at the front of the room\", \"Trajectory\": \"to school\"}],\n",
      "\"9\": [{\"Verb\": \"pretend\", \"Agent\": \"I\", \"Patient\": \"I\", \"Theme\": \"not about to have a panic attack\", \"Time\": \"NONE\", \"Manner\": \"NONE\", \"Location\": \"NONE\", \"Trajectory\": \"NONE\"}],\n",
      "\"10\": [{\"Verb\": \"was playing\", \"Agent\": \"Norah Jones\", \"Patient\": \"NONE\", \"Theme\": \"NONE\", \"Time\": \"NONE\", \"Manner\": \"quietly\", \"Location\": \"in the background\", \"Trajectory\": \"NONE\"}],\n",
      "\"11\": [{\"Verb\": \"came\", \"Agent\": \"the kids\", \"Patient\": \"NONE\", \"Theme\": \"NONE\", \"Time\": \"Then\", \"Manner\": \"just\", \"Location\": \"in\", \"Trajectory\": \"NONE\"}],\n",
      "\"12\": [{\"Verb\": \"were\", \"Agent\": \"fifteen kids\", \"Patient\": \"NONE\", \"Theme\": \"NONE\", \"Time\": \"NONE\", \"Manner\": \"NONE\", \"Location\": \"over here at this table\", \"Trajectory\": \"NONE\"}],\n",
      "\"13\": [{\"Verb\": \"was\", \"Agent\": \"one guy\", \"Patient\": \"NONE\", \"Theme\": \"a dragon tshirt\", \"Time\": \"NONE\", \"Manner\": \"completely alone\", \"Location\": \"on the other side of the room\", \"Trajectory\": \"NONE\"}],\n",
      "\"14\": [{\"Verb\": \"brought\", \"Agent\": \"Nobody\", \"Patient\": \"a pen\", \"Theme\": \"NONE\", \"Time\": \"NONE\", \"Manner\": \"NONE\", \"Location\": \"NONE\", \"Trajectory\": \"NONE\"}],\n",
      "\"15\": [{\"Verb\": \"were\", \"Agent\": \"two girls\", \"Patient\": \"NONE\", \"Theme\": \"making out\", \"Time\": \"NONE\", \"Manner\": \"NONE\", \"Location\": \"in the doorway\", \"Trajectory\": \"NONE\"}],\n",
      "\"16\": [{\"Verb\": \"support\", \"Agent\": \"I\", \"Patient\": \"you guys\", \"Theme\": \"NONE\", \"Time\": \"NONE\", \"Manner\": \"NONE\", \"Location\": \"not here\", \"Trajectory\": \"NONE\"}],\n",
      "\"17\": [{\"Verb\": \"comes\", \"Agent\": \"my principal\", \"Patient\": \"NONE\", \"Theme\": \"NONE\", \"Time\": \"Then\", \"Manner\": \"NONE\", \"Location\": \"in\", \"Trajectory\": \"NONE\"}],\n",
      "\"18\": [{\"Verb\": \"was\", \"Agent\": \"The principal\", \"Patient\": \"NONE\", \"Theme\": \"\\\"I'm just going to sit in and observe this lesson\\\"\", \"Time\": \"NONE\", \"Manner\": \"NONE\", \"Location\": \"NONE\", \"Trajectory\": \"NONE\"}],\n",
      "\"19\": [{\"Verb\": \"am\", \"Agent\": \"I\", \"Patient\": \"NONE\", \"Theme\": \"\\\"that seems like something that would happen in my life at this moment\\\"\", \"Time\": \"NONE\", \"Manner\": \"NONE\", \"Location\": \"NONE\", \"Trajectory\": \"NONE\"}],\n",
      "\"20\": [{\"Verb\": \"survived\", \"Agent\": \"I\", \"Patient\": \"my first week\", \"Theme\": \"NONE\", \"Time\": \"NONE\", \"Manner\": \"bravely\", \"Location\": \"NONE\", \"Trajectory\": \"NONE\"}],\n",
      "\"21\": [{\"Verb\": \"breaks\", \"Agent\": \"the copy machine\", \"Patient\": \"me\", \"Theme\": \"NONE\", \"Time\": \"on Friday at 6pm\", \"Manner\": \"NONE\", \"Location\": \"NONE\", \"Trajectory\": \"down\"}],\n",
      "\"22\": [{\"Verb\": \"burst\", \"Agent\": \"I\", \"Patient\": \"tears\", \"Theme\": \"NONE\", \"Time\": \"NONE\", \"Manner\": \"NONE\", \"Location\": \"NONE\", \"Trajectory\": \"into\"}],\n",
      "\"23\": [{\"Verb\": \"is\", \"Agent\": \"This\", \"Patient\": \"NONE\", \"Theme\": \"how the first few months of teaching go\", \"Time\": \"NONE\", \"Manner\": \"basically\", \"Location\": \"NONE\", \"Trajectory\": \"NONE\"}],\n",
      "\"24\": [{\"Verb\": \"standing\", \"Agent\": \"I\", \"Patient\": \"NONE\", \"Theme\": \"NONE\", \"Time\": \"NONE\", \"Manner\": \"NONE\", \"Location\": \"in front of the classroom\", \"Trajectory\": \"NONE\"}],\n",
      "\"25\": [{\"Verb\": \"walks\", \"Agent\": \"the principal\", \"Patient\": \"NONE\", \"Theme\": \"NONE\", \"Time\": \"Then\", \"Manner\": \"just\", \"Location\": \"in\", \"Trajectory\": \"NONE\"}],\n",
      "\"26\": [{\"Verb\": \"is\", \"Agent\": \"He\", \"Patient\": \"a drummer\", \"Theme\": \"NONE\", \"Time\": \"used to be\", \"Manner\": \"NONE\", \"Location\": \"in a punk band\", \"Trajectory\": \"NONE\"}],\n",
      "\"27\": [{\"Verb\": \"is\", \"Agent\": \"he\", \"Patient\": \"NONE\", \"Theme\": \"a big guy with full length sleeve tattoos\", \"Time\": \"NONE\", \"Manner\": \"like\", \"Location\": \"NONE\", \"Trajectory\": \"NONE\"}],\n",
      "\"28\": [{\"Verb\": \"is\", \"Agent\": \"His face\", \"Patient\": \"NONE\", \"Theme\": \"red and sweaty\", \"Time\": \"perpetually\", \"Manner\": \"NONE\", \"Location\": \"NONE\", \"Trajectory\": \"NONE\"}],\n",
      "\"29\": [{\"Verb\": \"is\", \"Agent\": \"this\", \"Patient\": \"NONE\", \"Theme\": \"like your run of the mill frown\", \"Time\": \"NONE\", \"Manner\": \"just\", \"Location\": \"NONE\", \"Trajectory\": \"NONE\"}],\n",
      "\"30\": [{\"Verb\": \"is\", \"Agent\": \"This guy\", \"Patient\": \"NONE\", \"Theme\": \"a professional frowner\", \"Time\": \"NONE\", \"Manner\": \"like\", \"Location\": \"NONE\", \"Trajectory\": \"NONE\"}],\n",
      "\"31\": [{\"Verb\": \"comes\", \"Agent\": \"he\", \"Patient\": \"I\", \"Theme\": \"NONE\", \"Time\": \"Every time\", \"Manner\": \"so scared\", \"Location\": \"in the room\", \"Trajectory\": \"NONE\"}],\n",
      "\"32\": [{\"Verb\": \"wither\", \"Agent\": \"I\", \"Patient\": \"NONE\", \"Theme\": \"NONE\", \"Time\": \"NONE\", \"Manner\": \"right\", \"Location\": \"in front of my students\", \"Trajectory\": \"NONE\"}],\n",
      "\"33\": [{\"Verb\": \"come\", \"Agent\": \"I\", \"Patient\": \"NONE\", \"Theme\": \"home\", \"Time\": \"one Friday\", \"Manner\": \"NONE\", \"Location\": \"NONE\", \"Trajectory\": \"NONE\"}],\n",
      "\"34\": [{\"Verb\": \"is saying\", \"Agent\": \"She\", \"Patient\": \"she\", \"Theme\": \"an interview\", \"Time\": \"NONE\", \"Manner\": \"NONE\", \"Location\": \"at my school\", \"Trajectory\": \"for an 11th and 12th grade English teacher position\"}],\n",
      "\"35\": [{\"Verb\": \"is\", \"Agent\": \"that\", \"Patient\": \"so great\", \"Theme\": \"the kids\", \"Time\": \"NONE\", \"Manner\": \"wonderful\", \"Location\": \"NONE\", \"Trajectory\": \"NONE\"}],\n",
      "\"36\": [{\"Verb\": \"tell\", \"Agent\": \"I\", \"Patient\": \"her\", \"Theme\": \"that it was probably my job that she was applying for\", \"Time\": \"NONE\", \"Manner\": \"NONE\", \"Location\": \"NONE\", \"Trajectory\": \"NONE\"}],\n",
      "\"37\": [{\"Verb\": \"have\", \"Agent\": \"I\", \"Patient\": \"enough respect\", \"Theme\": \"for myself\", \"Time\": \"NONE\", \"Manner\": \"NONE\", \"Location\": \"NONE\", \"Trajectory\": \"to tell her\"}],\n",
      "\"38\": [{\"Verb\": \"helped\", \"Agent\": \"I\", \"Patient\": \"her\", \"Theme\": \"prepare for the interview\", \"Time\": \"Instead\", \"Manner\": \"NONE\", \"Location\": \"NONE\", \"Trajectory\": \"NONE\"}],\n",
      "\"39\": [{\"Verb\": \"mention\", \"Agent\": \"I\", \"Patient\": \"you guys\", \"Theme\": \"that I grew up Catholic\", \"Time\": \"NONE\", \"Manner\": \"NONE\", \"Location\": \"NONE\", \"Trajectory\": \"NONE\"}],\n",
      "\"40\": [{\"Verb\": \"feel\", \"Agent\": \"I\", \"Patient\": \"it\", \"Theme\": \"very relevant\", \"Time\": \"right now\", \"Manner\": \"NONE\", \"Location\": \"NONE\", \"Trajectory\": \"NONE\"}],\n",
      "\"41\": [{\"Verb\": \"get\", \"Agent\": \"I\", \"Patient\": \"NONE\", \"Theme\": \"NONE\", \"Time\": \"on Monday\", \"Manner\": \"NONE\", \"Location\": \"to school\", \"Trajectory\": \"NONE\"}],\n",
      "\"42\": [{\"Verb\": \"thinking\", \"Agent\": \"They\", \"Patient\": \"my job\", \"Theme\": \"someone else\", \"Time\": \"NONE\", \"Manner\": \"NONE\", \"Location\": \"NONE\", \"Trajectory\": \"NONE\"}],\n",
      "\"43\": [{\"Verb\": \"know\", \"Agent\": \"you\", \"Patient\": \"they don't know\", \"Theme\": \"NONE\", \"Time\": \"NONE\", \"Manner\": \"NONE\", \"Location\": \"NONE\", \"Trajectory\": \"NONE\"}],\n",
      "\"44\": [{\"Verb\": \"am avoiding\", \"Agent\": \"I\", \"Patient\": \"my colleagues\", \"Theme\": \"NONE\", \"Time\": \"NONE\", \"Manner\": \"ashamed\", \"Location\": \"in the hallway\", \"Trajectory\": \"NONE\"}],\n",
      "\"45\": [{\"Verb\": \"know\", \"Agent\": \"I\", \"Patient\": \"that everybody knows\", \"Theme\": \"NONE\", \"Time\": \"NONE\", \"Manner\": \"NONE\", \"Location\": \"NONE\", \"Trajectory\": \"NONE\"}],\n",
      "\"46\": [{\"Verb\": \"sit\", \"Agent\": \"I\", \"Patient\": \"NONE\", \"Theme\": \"NONE\", \"Time\": \"at lunch\", \"Manner\": \"just\", \"Location\": \"in my room\", \"Trajectory\": \"NONE\"}],\n",
      "\"47\": [{\"Verb\": \"know\", \"Agent\": \"I\", \"Patient\": \"they're for women\", \"Theme\": \"I'm anemic so I need the iron\", \"Time\": \"NONE\", \"Manner\": \"NONE\", \"Location\": \"NONE\", \"Trajectory\": \"NONE\"}],\n",
      "\"48\": [{\"Verb\": \"come\", \"Agent\": \"My students\", \"Patient\": \"NONE\", \"Theme\": \"NONE\", \"Time\": \"from lunch\", \"Manner\": \"NONE\", \"Location\": \"back\", \"Trajectory\": \"NONE\"}],\n",
      "\"49\": [{\"Verb\": \"love\", \"Agent\": \"I\", \"Patient\": \"these kids\", \"Theme\": \"NONE\", \"Time\": \"NONE\", \"Manner\": \"so much\", \"Location\": \"NONE\", \"Trajectory\": \"NONE\"}],\n",
      "\"50\": [{\"Verb\": \"is\", \"Agent\": \"the two girls\", \"Patient\": \"NONE\", \"Theme\": \"making out\", \"Time\": \"again\", \"Manner\": \"NONE\", \"Location\": \"in the doorway\", \"Trajectory\": \"NONE\"}],\n",
      "\"51\": [{\"Verb\": \"be\", \"Agent\": \"I\", \"Patient\": \"NONE\", \"Theme\": \"as confident as they\", \"Time\": \"NONE\", \"Manner\": \"clearly\", \"Location\": \"NONE\", \"Trajectory\": \"NONE\"}],\n",
      "\"52\": [{\"Verb\": \"think\", \"Agent\": \"I\", \"Patient\": \"myself\", \"Theme\": \"I used to be that confident\", \"Time\": \"then\", \"Manner\": \"NONE\", \"Location\": \"NONE\", \"Trajectory\": \"NONE\"}],\n",
      "\"53\": [{\"Verb\": \"do\", \"Agent\": \"I\", \"Patient\": \"standup comedy\", \"Theme\": \"NONE\", \"Time\": \"When I was 17\", \"Manner\": \"all the time\", \"Location\": \"NONE\", \"Trajectory\": \"NONE\"}],\n",
      "\"54\": [{\"Verb\": \"grew up\", \"Agent\": \"I\", \"Patient\": \"NONE\", \"Theme\": \"NONE\", \"Time\": \"NONE\", \"Manner\": \"NONE\", \"Location\": \"on Long Island\", \"Trajectory\": \"NONE\"}],\n",
      "\"55\": [{\"Verb\": \"go\", \"Agent\": \"I\", \"Patient\": \"NONE\", \"Theme\": \"NONE\", \"Time\": \"NONE\", \"Manner\": \"NONE\", \"Location\": \"the comedy club behind the McDonalds across the street from the airport\", \"Trajectory\": \"NONE\"}],\n",
      "\"56\": [{\"Verb\": \"was going\", \"Agent\": \"I\", \"Patient\": \"NONE\", \"Theme\": \"be in a show\", \"Time\": \"Every day\", \"Manner\": \"so nervous\", \"Location\": \"NONE\", \"Trajectory\": \"NONE\"}],\n",
      "\"57\": [{\"Verb\": \"get\", \"Agent\": \"I\", \"Patient\": \"NONE\", \"Theme\": \"NONE\", \"Time\": \"NONE\", \"Manner\": \"NONE\", \"Location\": \"there\", \"Trajectory\": \"NONE\"}],\n",
      "\"58\": [{\"Verb\": \"were\", \"Agent\": \"All of his jokes\", \"Patient\": \"NONE\", \"Theme\": \"about the length of his hose\", \"Time\": \"NONE\", \"Manner\": \"NONE\", \"Location\": \"NONE\", \"Trajectory\": \"NONE\"}],\n",
      "\"59\": [{\"Verb\": \"get\", \"Agent\": \"I\", \"Patient\": \"NONE\", \"Theme\": \"NONE\", \"Time\": \"NONE\", \"Manner\": \"like a member of Weezer\", \"Location\": \"on stage\", \"Trajectory\": \"NONE\"}],\n",
      "\"60\": [{\"Verb\": \"are\", \"Agent\": \"All my jokes\", \"Patient\": \"NONE\", \"Theme\": \"about getting beaten up by girls\", \"Time\": \"NONE\", \"Manner\": \"NONE\", \"Location\": \"NONE\", \"Trajectory\": \"NONE\"}],\n",
      "\"61\": [{\"Verb\": \"did\", \"Agent\": \"I\", \"Patient\": \"it\", \"Theme\": \"the craziest thing in the world\", \"Time\": \"NONE\", \"Manner\": \"NONE\", \"Location\": \"NONE\", \"Trajectory\": \"NONE\"}],\n",
      "\"62\": [{\"Verb\": \"wanted\", \"Agent\": \"I\", \"Patient\": \"that part of me\", \"Theme\": \"to be able to get back\", \"Time\": \"at 22\", \"Manner\": \"like I was fearless even while I was terrified\", \"Location\": \"NONE\", \"Trajectory\": \"NONE\"}],\n",
      "\"63\": [{\"Verb\": \"tells\", \"Agent\": \"one of my students\", \"Patient\": \"me\", \"Theme\": \"there's going to be a teacher talent show coming up\", \"Time\": \"The next day\", \"Manner\": \"NONE\", \"Location\": \"at school\", \"Trajectory\": \"NONE\"}],\n",
      "\"64\": [{\"Verb\": \"go\", \"Agent\": \"I\", \"Patient\": \"NONE\", \"Theme\": \"\\\"yeah I'll do standup comedy in it\\\"\", \"Time\": \"NONE\", \"Manner\": \"without even thinking\", \"Location\": \"NONE\", \"Trajectory\": \"NONE\"}],\n",
      "\"65\": [{\"Verb\": \"am\", \"Agent\": \"I\", \"Patient\": \"terrified\", \"Theme\": \"NONE\", \"Time\": \"NONE\", \"Manner\": \"also like excited\", \"Location\": \"NONE\", \"Trajectory\": \"NONE\"}],\n",
      "\"66\": [{\"Verb\": \"doing\", \"Agent\": \"we\", \"Patient\": \"transcendentalism\", \"Theme\": \"NONE\", \"Time\": \"NONE\", \"Manner\": \"NONE\", \"Location\": \"in our class\", \"Trajectory\": \"NONE\"}],\n",
      "\"67\": [{\"Verb\": \"started\", \"Agent\": \"I\", \"Patient\": \"NONE\", \"Theme\": \"standing on top of tables and shouting quotes from Thoreau\", \"Time\": \"NONE\", \"Manner\": \"NONE\", \"Location\": \"on top of tables\", \"Trajectory\": \"NONE\"}],\n",
      "\"68\": [{\"Verb\": \"started\", \"Agent\": \"I\", \"Patient\": \"Walt Whitman poems\", \"Theme\": \"hiding Walt Whitman poems all over the school\", \"Time\": \"Then\", \"Manner\": \"NONE\", \"Location\": \"all over the school\", \"Trajectory\": \"NONE\"}],\n",
      "\"69\": [{\"Verb\": \"comes\", \"Agent\": \"The night of the teacher talent show\", \"Patient\": \"NONE\", \"Theme\": \"NONE\", \"Time\": \"NONE\", \"Manner\": \"NONE\", \"Location\": \"NONE\", \"Trajectory\": \"NONE\"}],\n",
      "\"70\": [{\"Verb\": \"standing\", \"Agent\": \"I\", \"Patient\": \"NONE\", \"Theme\": \"backstage\", \"Time\": \"NONE\", \"Manner\": \"like 'I think I can do this'\", \"Location\": \"backstage\", \"Trajectory\": \"NONE\"}],\n",
      "\"71\": [{\"Verb\": \"get\", \"Agent\": \"I\", \"Patient\": \"a phone call\", \"Theme\": \"NONE\", \"Time\": \"Then\", \"Manner\": \"NONE\", \"Location\": \"from my friend from grad school\", \"Trajectory\": \"NONE\"}],\n",
      "\"72\": [{\"Verb\": \"says\", \"Agent\": \"My friend\", \"Patient\": \"she\", \"Theme\": \"the job\", \"Time\": \"NONE\", \"Manner\": \"NONE\", \"Location\": \"NONE\", \"Trajectory\": \"NONE\"}],\n",
      "\"73\": [{\"Verb\": \"is\", \"Agent\": \"the voice in my head\", \"Patient\": \"NONE\", \"Theme\": \"\\\"this is the proof I've been looking for\\\"\", \"Time\": \"NONE\", \"Manner\": \"NONE\", \"Location\": \"NONE\", \"Trajectory\": \"NONE\"}],\n",
      "\"74\": [{\"Verb\": \"are\", \"Agent\": \"All of my fears about myself\", \"Patient\": \"NONE\", \"Theme\": \"correct\", \"Time\": \"NONE\", \"Manner\": \"NONE\", \"Location\": \"NONE\", \"Trajectory\": \"NONE\"}],\n",
      "\"75\": [{\"Verb\": \"am\", \"Agent\": \"I\", \"Patient\": \"a failure\", \"Theme\": \"NONE\", \"Time\": \"NONE\", \"Manner\": \"NONE\", \"Location\": \"NONE\", \"Trajectory\": \"NONE\"}],\n",
      "\"76\": [{\"Verb\": \"do\", \"Agent\": \"17 year old Tim\", \"Patient\": \"NONE\", \"Theme\": \"well what\", \"Time\": \"NONE\", \"Manner\": \"NONE\", \"Location\": \"NONE\", \"Trajectory\": \"NONE\"}],\n",
      "\"77\": [{\"Verb\": \"stay\", \"Agent\": \"NONE\", \"Patient\": \"NONE\", \"Theme\": \"NONE\", \"Time\": \"on a Friday\", \"Manner\": \"NONE\", \"Location\": \"at home\", \"Trajectory\": \"NONE\"}],\n",
      "\"78\": [{\"Verb\": \"get\", \"Agent\": \"I\", \"Patient\": \"NONE\", \"Theme\": \"NONE\", \"Time\": \"NONE\", \"Manner\": \"NONE\", \"Location\": \"on stage\", \"Trajectory\": \"NONE\"}],\n",
      "\"79\": [{\"Verb\": \"was\", \"Agent\": \"I\", \"Patient\": \"the kid\", \"Theme\": \"who had not one, but two tshirts of the genie from Aladdin\", \"Time\": \"NONE\", \"Manner\": \"NONE\", \"Location\": \"NONE\", \"Trajectory\": \"NONE\"}],\n",
      "\"80\": [{\"Verb\": \"was\", \"Agent\": \"I\", \"Patient\": \"NONE\", \"Theme\": \"my very realistic kitten meow\", \"Time\": \"NONE\", \"Manner\": \"also\", \"Location\": \"NONE\", \"Trajectory\": \"NONE\"}],\n",
      "\"81\": [{\"Verb\": \"talked\", \"Agent\": \"I\", \"Patient\": \"NONE\", \"Theme\": \"how I'm the epitome of masculinity\", \"Time\": \"NONE\", \"Manner\": \"NONE\", \"Location\": \"NONE\", \"Trajectory\": \"NONE\"}],\n",
      "\"82\": [{\"Verb\": \"started\", \"Agent\": \"I\", \"Patient\": \"NONE\", \"Theme\": \"getting actually fearless\", \"Time\": \"Then\", \"Manner\": \"I guess\", \"Location\": \"NONE\", \"Trajectory\": \"NONE\"}],\n",
      "\"83\": [{\"Verb\": \"got\", \"Agent\": \"I\", \"Patient\": \"this teaching job\", \"Theme\": \"NONE\", \"Time\": \"NONE\", \"Manner\": \"by beating the principal in a street fight\", \"Location\": \"NONE\", \"Trajectory\": \"NONE\"}],\n",
      "\"84\": [{\"Verb\": \"went\", \"Agent\": \"I\", \"Patient\": \"NONE\", \"Theme\": \"\\\"are you here right now?\\\"\", \"Time\": \"Then\", \"Manner\": \"NONE\", \"Location\": \"NONE\", \"Trajectory\": \"NONE\"}],\n",
      "\"85\": [{\"Verb\": \"heard\", \"Agent\": \"I\", \"Patient\": \"\\\"standing right here\\\"\", \"Theme\": \"NONE\", \"Time\": \"NONE\", \"Manner\": \"NONE\", \"Location\": \"From the back of the room\", \"Trajectory\": \"NONE\"}],\n",
      "\"86\": [{\"Verb\": \"see\", \"Agent\": \"I\", \"Patient\": \"you\", \"Theme\": \"NONE\", \"Time\": \"after the show\", \"Manner\": \"NONE\", \"Location\": \"NONE\", \"Trajectory\": \"NONE\"}],\n",
      "\"87\": [{\"Verb\": \"starts\", \"Agent\": \"the whole auditorium\", \"Patient\": \"NONE\", \"Theme\": \"chanting\", \"Time\": \"As I walked off the stage\", \"Manner\": \"NONE\", \"Location\": \"NONE\", \"Trajectory\": \"NONE\"}],\n",
      "\"88\": [{\"Verb\": \"NONE\", \"Agent\": \"Manley\", \"Patient\": \"NONE\", \"Theme\": \"NONE\", \"Time\": \"NONE\", \"Manner\": \"NONE\", \"Location\": \"NONE\", \"Trajectory\": \"NONE\"}],\n",
      "\"89\": [{\"Verb\": \"felt\", \"Agent\": \"I\", \"Patient\": \"NONE\", \"Theme\": \"uncomfortable\", \"Time\": \"then, now\", \"Manner\": \"just as\", \"Location\": \"NONE\", \"Trajectory\": \"NONE\"}],\n",
      "\"90\": [{\"Verb\": \"run\", \"Agent\": \"All the 10th graders\", \"Patient\": \"the principal\", \"Theme\": \"NONE\", \"Time\": \"NONE\", \"Manner\": \"up\", \"Location\": \"NONE\", \"Trajectory\": \"to\"}],\n",
      "\"91\": [{\"Verb\": \"tell\", \"Agent\": \"They\", \"Patient\": \"them\", \"Theme\": \"they're so excited to be my class in the fall\", \"Time\": \"NONE\", \"Manner\": \"NONE\", \"Location\": \"NONE\", \"Trajectory\": \"NONE\"}],\n",
      "\"92\": [{\"Verb\": \"shakes\", \"Agent\": \"he\", \"Patient\": \"my hand\", \"Theme\": \"I got my job back\", \"Time\": \"On Monday\", \"Manner\": \"as he says\", \"Location\": \"NONE\", \"Trajectory\": \"NONE\"}],\n",
      "\"93\": [{\"Verb\": \"had overcome\", \"Agent\": \"I\", \"Patient\": \"my fears\", \"Theme\": \"NONE\", \"Time\": \"NONE\", \"Manner\": \"by using myself as inspiration\", \"Location\": \"NONE\", \"Trajectory\": \"NONE\"}],\n",
      "\"94\": [{\"Verb\": \"became\", \"Agent\": \"I\", \"Patient\": \"my own spirit animal\", \"Theme\": \"NONE\", \"Time\": \"NONE\", \"Manner\": \"NONE\", \"Location\": \"NONE\", \"Trajectory\": \"NONE\"}],\n"
     ]
    }
   ],
   "source": [
    "## Parse a list of sentences and print results\n",
    "# These should be saved to a .json file, but because the api can break I've found it better to print each sentence to output first.\n",
    "start_int = 0\n",
    "for int,sent_pair in enumerate(list(sentences_dict.values())[start_int:]):\n",
    "    \n",
    "    if pairs == True: # if we're parsing a sentence pair\n",
    "        pair_str = str(sent_pair[0:2])[1:-1]\n",
    "        parsed_pair = gpt4_parse(GPT_instruction_base, example_sentence, example_output, final_instruction, pair_str)\n",
    "    elif pairs == False: # if we're parsing one sentence at a time\n",
    "        single_sent = sent_pair\n",
    "        parsed_pair = gpt4_parse(GPT_instruction_single, example_sentence, example_output, final_instruction_single, single_sent)\n",
    "        \n",
    "    parsed_pair = parsed_pair.replace('\\n\\n', ', ') # remove errant new-lines\n",
    "    print('\"'+str(int+start_int)+'\": ['+parsed_pair+'],') # print results on json form"
   ]
  },
  {
   "cell_type": "code",
   "execution_count": null,
   "metadata": {},
   "outputs": [],
   "source": [
    "## Parse a single sentence\n",
    "sentence = 'Banks foolishly rely on electronic fund transfer systems.'\n",
    "gpt4_parse(GPT_instruction_single, example_sentence, example_output, final_instruction_single, sentence)"
   ]
  }
 ],
 "metadata": {
  "kernelspec": {
   "display_name": "base",
   "language": "python",
   "name": "python3"
  },
  "language_info": {
   "codemirror_mode": {
    "name": "ipython",
    "version": 3
   },
   "file_extension": ".py",
   "mimetype": "text/x-python",
   "name": "python",
   "nbconvert_exporter": "python",
   "pygments_lexer": "ipython3",
   "version": "3.9.13"
  },
  "orig_nbformat": 4
 },
 "nbformat": 4,
 "nbformat_minor": 2
}
