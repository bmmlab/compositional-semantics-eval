{
 "cells": [
  {
   "cell_type": "code",
   "execution_count": null,
   "metadata": {},
   "outputs": [],
   "source": [
    "import numpy as np\n",
    "\n",
    "# Load full dataset for STS3k dataset only\n",
    "path_root = 'D:\\Study and Projects\\School Work\\Year 25 - PhD 1\\Data\\Sentence Similarity Data\\Fodor2023 - STS3k Large Dataset\\\\'\n",
    "sentences_filename = path_root+'2 - Experimental data\\STS3k_all_full_self.txt'\n",
    "all_expr_data = np.loadtxt(sentences_filename,  delimiter=';', dtype='str')\n",
    "save_file_path = path_root+'\\output.txt'"
   ]
  },
  {
   "cell_type": "code",
   "execution_count": 21,
   "metadata": {},
   "outputs": [
    {
     "name": "stdout",
     "output_type": "stream",
     "text": [
      "['Main ID' 'Adversarial' 'Type ID' 'Sentence 1' 'Sentence 2' 'Set' 'Sim'\n",
      " 'Sent Type' 'Mod 1' 'Mod 2' 'Mod 3' 'Mod 4' 'Mod 5' 'Mod 6']\n"
     ]
    }
   ],
   "source": [
    "# Select data to use\n",
    "subset = 'TRAIN'\n",
    "print(all_expr_data[0]) # show categories of data for use\n",
    "col_dict = dict(zip(all_expr_data[0], np.arange(len(all_expr_data[0]))))\n",
    "condition_set = np.where(all_expr_data[1:,col_dict['Set']] == subset)[0]"
   ]
  },
  {
   "cell_type": "code",
   "execution_count": 22,
   "metadata": {},
   "outputs": [],
   "source": [
    "# Save sentence pairs with the formatting needed for qualtrics survey\n",
    "i=1\n",
    "save_file = open(path_root+'Qualtrics_STS3k_'+subset.lower()+'.txt', \"a\", encoding='utf-8')\n",
    "for line in all_expr_data[1:][condition_set]: # skip header line\n",
    "    save_file.writelines(str(i)+'. '+line[3]+'<br>'+line[4]+'\\n\\n')\n",
    "    save_file.writelines('1 - least similar meaning\\n')\n",
    "    save_file.writelines('2\\n3\\n4\\n5\\n6\\n')\n",
    "    save_file.writelines('7 - most similar meaning\\n\\n')\n",
    "    i+=1\n",
    "save_file.close()"
   ]
  }
 ],
 "metadata": {
  "kernelspec": {
   "display_name": "Python 3",
   "language": "python",
   "name": "python3"
  },
  "language_info": {
   "codemirror_mode": {
    "name": "ipython",
    "version": 3
   },
   "file_extension": ".py",
   "mimetype": "text/x-python",
   "name": "python",
   "nbconvert_exporter": "python",
   "pygments_lexer": "ipython3",
   "version": "3.9.13"
  },
  "orig_nbformat": 4,
  "vscode": {
   "interpreter": {
    "hash": "c41245681b0c5dfdc198064911b7c792a0421ee2cbedc4ec4c9079156fd03e41"
   }
  }
 },
 "nbformat": 4,
 "nbformat_minor": 2
}
